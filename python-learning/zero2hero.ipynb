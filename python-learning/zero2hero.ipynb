{
 "cells": [
  {
   "cell_type": "markdown",
   "metadata": {},
   "source": [
    "# Zero to Hero - Python3\n",
    "\n",
    "1. Variaveis, logica, tipos e tips\n",
    "  - identação 4 espaços\n",
    "  - hello world\n",
    "  - lint\n",
    "  - str, repr, eval\n",
    "  - inteiro, decimal, milhar, complexo (j), lista, dicionario, tupla, classes\n",
    "  - comentarios\n",
    "  - documentação \\_\\_doc\\_\\_ , help()\n",
    "  - date e time e delta\n",
    "  - enum + iterations\n",
    "  - sets -> interseçao &, união | , diferença - \n",
    "  - loops , logicas, ternario\n",
    "  - global, local\n",
    "\n"
   ]
  },
  {
   "cell_type": "markdown",
   "metadata": {},
   "source": []
  }
 ],
 "metadata": {
  "language_info": {
   "name": "python"
  },
  "orig_nbformat": 4
 },
 "nbformat": 4,
 "nbformat_minor": 2
}
